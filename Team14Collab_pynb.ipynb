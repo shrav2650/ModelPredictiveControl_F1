{
  "nbformat": 4,
  "nbformat_minor": 0,
  "metadata": {
    "colab": {
      "name": "Team14Collab.pynb",
      "provenance": [],
      "collapsed_sections": [],
      "include_colab_link": true
    },
    "kernelspec": {
      "name": "python3",
      "display_name": "Python 3"
    },
    "language_info": {
      "name": "python"
    }
  },
  "cells": [
    {
      "cell_type": "markdown",
      "metadata": {
        "id": "view-in-github",
        "colab_type": "text"
      },
      "source": [
        "<a href=\"https://colab.research.google.com/github/shrav2650/ModelPredictiveControl_F1/blob/main/Team14Collab_pynb.ipynb\" target=\"_parent\"><img src=\"https://colab.research.google.com/assets/colab-badge.svg\" alt=\"Open In Colab\"/></a>"
      ]
    },
    {
      "cell_type": "markdown",
      "metadata": {
        "id": "yyBFePYXsfhQ"
      },
      "source": [
        "## Team 14 Project: Trajectory for a race car using MPC"
      ]
    },
    {
      "cell_type": "markdown",
      "metadata": {
        "id": "GNG-zKh7HpSR"
      },
      "source": [
        "Car Modelling"
      ]
    },
    {
      "cell_type": "code",
      "metadata": {
        "id": "fa_G1sBWd6wh"
      },
      "source": [
        ""
      ],
      "execution_count": null,
      "outputs": []
    },
    {
      "cell_type": "markdown",
      "metadata": {
        "id": "Biz_eSb8Hvih"
      },
      "source": [
        "Define Track Limits"
      ]
    },
    {
      "cell_type": "code",
      "metadata": {
        "id": "CRG8Dn0DHvCk"
      },
      "source": [
        ""
      ],
      "execution_count": null,
      "outputs": []
    },
    {
      "cell_type": "markdown",
      "metadata": {
        "id": "kL2quvYcH3Z8"
      },
      "source": [
        "Define state, inputs and parameters"
      ]
    },
    {
      "cell_type": "code",
      "metadata": {
        "id": "JuAlVn5-H2y9"
      },
      "source": [
        ""
      ],
      "execution_count": null,
      "outputs": []
    },
    {
      "cell_type": "markdown",
      "metadata": {
        "id": "coF4saQCH8bJ"
      },
      "source": [
        "Define Cost function"
      ]
    },
    {
      "cell_type": "code",
      "metadata": {
        "id": "f-UT4ujqH8GI"
      },
      "source": [
        ""
      ],
      "execution_count": null,
      "outputs": []
    },
    {
      "cell_type": "markdown",
      "metadata": {
        "id": "hZDFjnXKIHMI"
      },
      "source": [
        "Create MPC loop"
      ]
    },
    {
      "cell_type": "code",
      "metadata": {
        "id": "WLCjHZw3IG2Z"
      },
      "source": [
        ""
      ],
      "execution_count": null,
      "outputs": []
    },
    {
      "cell_type": "markdown",
      "metadata": {
        "id": "4VHd1kwDJwtc"
      },
      "source": [
        "Run MPC"
      ]
    },
    {
      "cell_type": "code",
      "metadata": {
        "id": "oI5bYtwvJwPu"
      },
      "source": [
        ""
      ],
      "execution_count": null,
      "outputs": []
    },
    {
      "cell_type": "markdown",
      "metadata": {
        "id": "9gtYh4x6JyjM"
      },
      "source": [
        "Print Output Data and Graphs"
      ]
    },
    {
      "cell_type": "code",
      "metadata": {
        "id": "1pQhct5KJyRI"
      },
      "source": [
        ""
      ],
      "execution_count": null,
      "outputs": []
    }
  ]
}